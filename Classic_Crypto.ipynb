{
  "nbformat": 4,
  "nbformat_minor": 0,
  "metadata": {
    "colab": {
      "name": "Classic Crypto.ipynb",
      "provenance": []
    },
    "kernelspec": {
      "name": "python3",
      "display_name": "Python 3"
    }
  },
  "cells": [
    {
      "cell_type": "markdown",
      "metadata": {
        "id": "IQfOM4NDO1oQ"
      },
      "source": [
        "# **Simple Substitution**"
      ]
    },
    {
      "cell_type": "code",
      "metadata": {
        "id": "cVajBNMLOiIm"
      },
      "source": [
        "from collections import deque\n",
        "alphabet=deque(['a','b','c','d','e','f','g','h','i','j','k','l','m','n','o','p','q','r','s','t','u','v','w','x','y','z'])\n",
        "def encrypt(plain_text, key):\n",
        "  index=[]\n",
        "  for i in plain_text:\n",
        "    index.append(alphabet.index(i))\n",
        "  alphabet.rotate(-key)\n",
        "  m=\"\"\n",
        "  for i in index:\n",
        "    m=m+alphabet[i]\n",
        "  return m\n",
        "\n",
        "\n",
        "def decryption(cipher_text, key):\n",
        "  index=[]\n",
        "  for i in cipher_text:\n",
        "    index.append(alphabet.index(i))\n",
        "  alphabet.rotate(key)\n",
        "  m=\"\"\n",
        "  for i in index:\n",
        "    m=m+alphabet[i]\n",
        "  return m\n"
      ],
      "execution_count": null,
      "outputs": []
    },
    {
      "cell_type": "code",
      "metadata": {
        "colab": {
          "base_uri": "https://localhost:8080/",
          "height": 35
        },
        "id": "_y0lxS5ZPIyF",
        "outputId": "7ddb04d6-001f-4d9b-c66e-4991d1156f19"
      },
      "source": [
        "############################--------------Code For Encryption------------------########################\n",
        "message=\"spongebobsquarepants\"\n",
        "key=3\n",
        "cipher_text=encrypt(message,key)\n",
        "cipher_text"
      ],
      "execution_count": null,
      "outputs": [
        {
          "output_type": "execute_result",
          "data": {
            "application/vnd.google.colaboratory.intrinsic+json": {
              "type": "string"
            },
            "text/plain": [
              "'vsrqjherevtxduhsdqwv'"
            ]
          },
          "metadata": {
            "tags": []
          },
          "execution_count": 2
        }
      ]
    },
    {
      "cell_type": "code",
      "metadata": {
        "colab": {
          "base_uri": "https://localhost:8080/",
          "height": 35
        },
        "id": "D8JpPOT1QdcL",
        "outputId": "9311c598-62a5-47bb-cabf-2c2fa65d8586"
      },
      "source": [
        "############################--------------Code For decryption------------------########################\n",
        "cipher_text=\"irxuvfruhdqgvhyhqbhduvdjr\"\n",
        "key=3\n",
        "plain_text=decryption(cipher_text,key)\n",
        "plain_text"
      ],
      "execution_count": null,
      "outputs": [
        {
          "output_type": "execute_result",
          "data": {
            "application/vnd.google.colaboratory.intrinsic+json": {
              "type": "string"
            },
            "text/plain": [
              "'fourscoreandsevenyearsago'"
            ]
          },
          "metadata": {
            "tags": []
          },
          "execution_count": 3
        }
      ]
    },
    {
      "cell_type": "markdown",
      "metadata": {
        "id": "aKnbqNjIijnd"
      },
      "source": [
        "# **Double Transposition**"
      ]
    },
    {
      "cell_type": "code",
      "metadata": {
        "colab": {
          "base_uri": "https://localhost:8080/",
          "height": 204
        },
        "id": "jdzXihyAix3W",
        "outputId": "5700f516-e2a2-47d9-bddf-0b573af19987"
      },
      "source": [
        "import numpy as np\n",
        "import pandas as pd\n",
        "plain_text=\"attackxatxdawnx\"\n",
        "column = 3\n",
        "row = 5\n",
        "val = [''] * row\n",
        "for x in range (row):\n",
        "    val[x] = [''] * column\n",
        "\n",
        "iterator=0\n",
        "for i in range(row):\n",
        "  for j in range(column):\n",
        "    val[i][j]=plain_text[iterator]\n",
        "    iterator=iterator+1\n",
        "val=np.array(val)\n",
        "val=pd.DataFrame(val,columns=['Column 1','Column 2','Column 3'],index=['Row 1','Row 2','Row 3','Row 4','Row 5'])\n",
        "\n",
        "val"
      ],
      "execution_count": null,
      "outputs": [
        {
          "output_type": "execute_result",
          "data": {
            "text/html": [
              "<div>\n",
              "<style scoped>\n",
              "    .dataframe tbody tr th:only-of-type {\n",
              "        vertical-align: middle;\n",
              "    }\n",
              "\n",
              "    .dataframe tbody tr th {\n",
              "        vertical-align: top;\n",
              "    }\n",
              "\n",
              "    .dataframe thead th {\n",
              "        text-align: right;\n",
              "    }\n",
              "</style>\n",
              "<table border=\"1\" class=\"dataframe\">\n",
              "  <thead>\n",
              "    <tr style=\"text-align: right;\">\n",
              "      <th></th>\n",
              "      <th>Column 1</th>\n",
              "      <th>Column 2</th>\n",
              "      <th>Column 3</th>\n",
              "    </tr>\n",
              "  </thead>\n",
              "  <tbody>\n",
              "    <tr>\n",
              "      <th>Row 1</th>\n",
              "      <td>a</td>\n",
              "      <td>t</td>\n",
              "      <td>t</td>\n",
              "    </tr>\n",
              "    <tr>\n",
              "      <th>Row 2</th>\n",
              "      <td>a</td>\n",
              "      <td>c</td>\n",
              "      <td>k</td>\n",
              "    </tr>\n",
              "    <tr>\n",
              "      <th>Row 3</th>\n",
              "      <td>x</td>\n",
              "      <td>a</td>\n",
              "      <td>t</td>\n",
              "    </tr>\n",
              "    <tr>\n",
              "      <th>Row 4</th>\n",
              "      <td>x</td>\n",
              "      <td>d</td>\n",
              "      <td>a</td>\n",
              "    </tr>\n",
              "    <tr>\n",
              "      <th>Row 5</th>\n",
              "      <td>w</td>\n",
              "      <td>n</td>\n",
              "      <td>x</td>\n",
              "    </tr>\n",
              "  </tbody>\n",
              "</table>\n",
              "</div>"
            ],
            "text/plain": [
              "      Column 1 Column 2 Column 3\n",
              "Row 1        a        t        t\n",
              "Row 2        a        c        k\n",
              "Row 3        x        a        t\n",
              "Row 4        x        d        a\n",
              "Row 5        w        n        x"
            ]
          },
          "metadata": {
            "tags": []
          },
          "execution_count": 4
        }
      ]
    },
    {
      "cell_type": "code",
      "metadata": {
        "colab": {
          "base_uri": "https://localhost:8080/",
          "height": 204
        },
        "id": "XibdGzeCsRbc",
        "outputId": "ddebad20-3a1d-4452-ce36-94d8d2a0f708"
      },
      "source": [
        "row_permutation=[3,5,1,4,2]\n",
        "column_permutation=[1,3,2]\n",
        "val=val.reindex(columns=['Column 1','Column 3','Column 2'],index=['Row 3','Row 5','Row 1','Row 4','Row 2'])\n",
        "val"
      ],
      "execution_count": null,
      "outputs": [
        {
          "output_type": "execute_result",
          "data": {
            "text/html": [
              "<div>\n",
              "<style scoped>\n",
              "    .dataframe tbody tr th:only-of-type {\n",
              "        vertical-align: middle;\n",
              "    }\n",
              "\n",
              "    .dataframe tbody tr th {\n",
              "        vertical-align: top;\n",
              "    }\n",
              "\n",
              "    .dataframe thead th {\n",
              "        text-align: right;\n",
              "    }\n",
              "</style>\n",
              "<table border=\"1\" class=\"dataframe\">\n",
              "  <thead>\n",
              "    <tr style=\"text-align: right;\">\n",
              "      <th></th>\n",
              "      <th>Column 1</th>\n",
              "      <th>Column 3</th>\n",
              "      <th>Column 2</th>\n",
              "    </tr>\n",
              "  </thead>\n",
              "  <tbody>\n",
              "    <tr>\n",
              "      <th>Row 3</th>\n",
              "      <td>x</td>\n",
              "      <td>t</td>\n",
              "      <td>a</td>\n",
              "    </tr>\n",
              "    <tr>\n",
              "      <th>Row 5</th>\n",
              "      <td>w</td>\n",
              "      <td>x</td>\n",
              "      <td>n</td>\n",
              "    </tr>\n",
              "    <tr>\n",
              "      <th>Row 1</th>\n",
              "      <td>a</td>\n",
              "      <td>t</td>\n",
              "      <td>t</td>\n",
              "    </tr>\n",
              "    <tr>\n",
              "      <th>Row 4</th>\n",
              "      <td>x</td>\n",
              "      <td>a</td>\n",
              "      <td>d</td>\n",
              "    </tr>\n",
              "    <tr>\n",
              "      <th>Row 2</th>\n",
              "      <td>a</td>\n",
              "      <td>k</td>\n",
              "      <td>c</td>\n",
              "    </tr>\n",
              "  </tbody>\n",
              "</table>\n",
              "</div>"
            ],
            "text/plain": [
              "      Column 1 Column 3 Column 2\n",
              "Row 3        x        t        a\n",
              "Row 5        w        x        n\n",
              "Row 1        a        t        t\n",
              "Row 4        x        a        d\n",
              "Row 2        a        k        c"
            ]
          },
          "metadata": {
            "tags": []
          },
          "execution_count": 5
        }
      ]
    },
    {
      "cell_type": "markdown",
      "metadata": {
        "id": "iNdV7rHO6YTL"
      },
      "source": [
        ""
      ]
    }
  ]
}